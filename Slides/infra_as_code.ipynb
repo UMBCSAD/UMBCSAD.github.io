{
 "cells": [
  {
   "cell_type": "raw",
   "metadata": {
    "slideshow": {
     "slide_type": "skip"
    }
   },
   "source": [
    "<!-- Credit to: https://alessandrobruni.name/software/2018/03/23/jupyter-slide-background.html -->\n",
    "<script>\n",
    "    function findAncestor (el, name) {\n",
    "        while ((el = el.parentElement) && el.nodeName.toLowerCase() !== name);\n",
    "        return el;\n",
    "    }\n",
    "    function colorAll(el, textColor) {\n",
    "        el.style.color = textColor;\n",
    "        Array.from(el.children).forEach((e) => {colorAll(e, textColor);});\n",
    "    }\n",
    "    function setAttribute(attrib, value) {\n",
    "        var section = findAncestor(document.currentScript, \"section\");\n",
    "        if (section) {\n",
    "            if (value) {\n",
    "                section.setAttribute(attrib);\n",
    "            } else {\n",
    "                section.setAttribute(attrib, value);\n",
    "\t\t\t}\n",
    "        }\n",
    "    }\n",
    "</script>"
   ]
  },
  {
   "cell_type": "markdown",
   "metadata": {
    "slideshow": {
     "slide_type": "slide"
    }
   },
   "source": [
    "# The Vodoo Magic of Infrastructure/Configuration as Code\n",
    "Or why CDE was(n't) terrible"
   ]
  },
  {
   "cell_type": "markdown",
   "metadata": {
    "slideshow": {
     "slide_type": "slide"
    }
   },
   "source": [
    "# What is it?\n",
    "Infrastructure as code (IaC) is the process of managing and provisioning computer data centers through machine-readable definition files, rather than physical hardware configuration or interactive configuration tools. ... The definitions may be in a version control system.\n"
   ]
  },
  {
   "cell_type": "markdown",
   "metadata": {
    "slideshow": {
     "slide_type": "slide"
    }
   },
   "source": [
    "# But why?\n",
    "Infrastructure as code (IaC) is the process of managing and provisioning computer data centers through machine-readable definition files, rather than physical hardware configuration or interactive configuration tools. ... The definitions may be in a version control system."
   ]
  },
  {
   "cell_type": "markdown",
   "metadata": {
    "slideshow": {
     "slide_type": "fragment"
    }
   },
   "source": [
    "**The definitions may be in a version control system.**"
   ]
  },
  {
   "cell_type": "markdown",
   "metadata": {
    "slideshow": {
     "slide_type": "slide"
    }
   },
   "source": [
    "# But how?\n",
    "## Configuration + Infra\n",
    "* Ansible (What we used!)\n",
    "* Puppet\n",
    "\n",
    "## (virtual) Infrastructure\n",
    "* Terraform"
   ]
  },
  {
   "cell_type": "raw",
   "metadata": {
    "slideshow": {
     "slide_type": "skip"
    }
   },
   "source": [
    "<script>\n",
    "    setAttribute(\"data-background-iframe\", \"http://sad.cs.umbc.edu/\");\n",
    "    setAttribute(\"data-background-interactive\", false);\n",
    "</script>"
   ]
  },
  {
   "cell_type": "markdown",
   "metadata": {
    "slideshow": {
     "slide_type": "slide"
    }
   },
   "source": [
    "# What does it look like?\n",
    "## hosts\n",
    "```ini\n",
    "# Host definitions for cde\n",
    "[valleyforge]\n",
    "valleyforge.team14.apol.lo team=\"14\"\n",
    "...\n",
    "```"
   ]
  },
  {
   "cell_type": "markdown",
   "metadata": {
    "slideshow": {
     "slide_type": "subslide"
    }
   },
   "source": [
    "## group_vars/<>.yml\n",
    "```yaml\n",
    "---\n",
    "# Group variables for all\n",
    "cpu: 2\n",
    "ram: 1024\n",
    "ansible_user: cdeuser\n",
    "ansible_password: 'Chiapet1!'\n",
    "net_model: virtio\n",
    "```\n",
    "```yaml\n",
    "---\n",
    "# Group variables for vallyforge\n",
    "vm_template: 'deb9-ansible-template'\n",
    "box_number: '05'\n",
    "node: 'vm2'\n",
    "ram: 1536\n",
    "```"
   ]
  },
  {
   "cell_type": "markdown",
   "metadata": {
    "slideshow": {
     "slide_type": "subslide"
    }
   },
   "source": [
    "## site.yml\n",
    "```yaml\n",
    "---\n",
    "- hosts: all\n",
    "  gather_facts: no\n",
    "  serial: 5\n",
    "  roles:\n",
    "    - provision\n",
    "\n",
    "- hosts: all !hastings !waterloo\n",
    "  roles:\n",
    "    - users\n",
    "    - hostname\n",
    "\n",
    "...\n",
    "\n",
    "- hosts: valleyforge\n",
    "  become: yes\n",
    "  roles:\n",
    "    - secureapt\n",
    "    - role: geerlingguy.pip\n",
    "      pip_install_packages:\n",
    "        - name: docker\n",
    "        - name: docker-compose\n",
    "    - role: geerlingguy.docker\n",
    "    - rocketchat  \n",
    "    - role: geerlingguy.java\n",
    "      java_packages:\n",
    "        - openjdk-8-jdk\n",
    "    - role: lean_delivery.jenkins\n",
    "      vars:\n",
    "        jenkins2_credentials_enabled: false\n",
    "        jenkins2_security_enable: false\n",
    "        jenkins2_cli_password: 'chiapet'\n",
    "\n",
    "```"
   ]
  },
  {
   "cell_type": "markdown",
   "metadata": {
    "slideshow": {
     "slide_type": "slide"
    }
   },
   "source": [
    "# Does it work?"
   ]
  },
  {
   "cell_type": "code",
   "execution_count": 3,
   "metadata": {
    "slideshow": {
     "slide_type": "fragment"
    }
   },
   "outputs": [
    {
     "data": {
      "text/html": [
       "<script id=\"asciicast-4bwaa5ZhvVJ7MkqbvoekiLJ3L\" src=\"https://asciinema.org/a/4bwaa5ZhvVJ7MkqbvoekiLJ3L.js\" async></script>\n"
      ],
      "text/plain": [
       "<IPython.core.display.HTML object>"
      ]
     },
     "metadata": {},
     "output_type": "display_data"
    }
   ],
   "source": [
    "%%html\n",
    "<script id=\"asciicast-4bwaa5ZhvVJ7MkqbvoekiLJ3L\" src=\"https://asciinema.org/a/4bwaa5ZhvVJ7MkqbvoekiLJ3L.js\" async></script>"
   ]
  },
  {
   "cell_type": "markdown",
   "metadata": {
    "slideshow": {
     "slide_type": "slide"
    }
   },
   "source": [
    "# What can I do with this as blue team?\n",
    "Everything we did!\n",
    "* Changing ssh settings\n",
    "* Changing users/password\n",
    "* Setting services up/down\n",
    "* Setting firewall rules\n",
    "* Executing arbitrary commands\n",
    "\n",
    "And all of this can be OS independent!"
   ]
  },
  {
   "cell_type": "code",
   "execution_count": null,
   "metadata": {
    "slideshow": {
     "slide_type": "skip"
    }
   },
   "outputs": [],
   "source": []
  }
 ],
 "metadata": {
  "celltoolbar": "Slideshow",
  "kernelspec": {
   "display_name": "Python 3",
   "language": "python",
   "name": "python3"
  },
  "language_info": {
   "codemirror_mode": {
    "name": "ipython",
    "version": 3
   },
   "file_extension": ".py",
   "mimetype": "text/x-python",
   "name": "python",
   "nbconvert_exporter": "python",
   "pygments_lexer": "ipython3",
   "version": "3.7.4"
  },
  "rise": {
   "theme": "white"
  }
 },
 "nbformat": 4,
 "nbformat_minor": 2
}
